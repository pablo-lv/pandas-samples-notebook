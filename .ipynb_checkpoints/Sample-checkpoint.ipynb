{
 "cells": [
  {
   "cell_type": "markdown",
   "id": "7735a525",
   "metadata": {},
   "source": [
    "## Heart Disease Project\n",
    "\n",
    "This project is about classififying whether or not a patiant has a heart disease."
   ]
  },
  {
   "cell_type": "code",
   "execution_count": 11,
   "id": "e7a792ae",
   "metadata": {},
   "outputs": [],
   "source": [
    "import pandas as pd"
   ]
  },
  {
   "cell_type": "code",
   "execution_count": null,
   "id": "ef9fb127",
   "metadata": {},
   "outputs": [],
   "source": []
  }
 ],
 "metadata": {
  "kernelspec": {
   "display_name": "Python 3 (ipykernel)",
   "language": "python",
   "name": "python3"
  },
  "language_info": {
   "codemirror_mode": {
    "name": "ipython",
    "version": 3
   },
   "file_extension": ".py",
   "mimetype": "text/x-python",
   "name": "python",
   "nbconvert_exporter": "python",
   "pygments_lexer": "ipython3",
   "version": "3.10.8"
  }
 },
 "nbformat": 4,
 "nbformat_minor": 5
}
